{
  "nbformat": 4,
  "nbformat_minor": 0,
  "metadata": {
    "colab": {
      "provenance": []
    },
    "kernelspec": {
      "name": "python3",
      "display_name": "Python 3"
    },
    "language_info": {
      "name": "python"
    }
  },
  "cells": [
    {
      "cell_type": "markdown",
      "source": [
        "#Problem Statement:\n",
        "\n",
        "\n",
        "---\n",
        "\n",
        "\n",
        "\n",
        "**You are a data analyst at a financial firm. Your manager has asked you to\n",
        "create a candlestick chart to visualize the stock prices of a company over a\n",
        "period of time.\n",
        "To do this, you need to generate a dataset of stock prices including the date,\n",
        "open, high, low, and close prices.\n",
        "Use Python to process this data and create a candlestick chart.\n",
        "Ensure that the chart is properly labeled and easy to understand.\n",
        "Use the following code to generate sample data for this task.**\n",
        "\n",
        "\n",
        "---\n",
        "\n"
      ],
      "metadata": {
        "id": "r1L52WIC25tY"
      }
    },
    {
      "cell_type": "code",
      "execution_count": 4,
      "metadata": {
        "id": "9gp65czo1iir"
      },
      "outputs": [],
      "source": [
        "import pandas as pd\n",
        "import numpy as np\n",
        "import datetime\n",
        "import matplotlib.pyplot as plt\n",
        "import matplotlib.dates as mdates\n",
        "from mplfinance.original_flavor import candlestick_ohlc\n"
      ]
    },
    {
      "cell_type": "code",
      "source": [
        "dates = pd.date_range(start='2023-01-01', end='2023-01-10')\n"
      ],
      "metadata": {
        "id": "dEJAWr0G1j8J"
      },
      "execution_count": 5,
      "outputs": []
    },
    {
      "cell_type": "code",
      "source": [
        "np.random.seed(0)\n",
        "data = {'Date': dates,\n",
        "        'Open': np.random.randint(100, 200, size=len(dates)),\n",
        "        'High': np.random.randint(200, 300, size=len(dates)),\n",
        "        'Low': np.random.randint(50, 100, size=len(dates)),\n",
        "        'Close': np.random.randint(100, 200, size=len(dates))}\n"
      ],
      "metadata": {
        "id": "RFnFexWJ1m9N"
      },
      "execution_count": 16,
      "outputs": []
    },
    {
      "cell_type": "code",
      "source": [
        "df = pd.DataFrame(data)\n"
      ],
      "metadata": {
        "id": "3X-ApG2F2B_h"
      },
      "execution_count": 18,
      "outputs": []
    },
    {
      "cell_type": "code",
      "source": [
        "df['Date'] = pd.to_datetime(df['Date'])\n"
      ],
      "metadata": {
        "id": "XC8rqHON2EtR"
      },
      "execution_count": 20,
      "outputs": []
    },
    {
      "cell_type": "code",
      "source": [
        "df['Date'] = [mdates.date2num(date) for date in df['Date']]\n"
      ],
      "metadata": {
        "id": "a0dex4Qu2Je8"
      },
      "execution_count": 21,
      "outputs": []
    },
    {
      "cell_type": "code",
      "source": [
        "ohlc = df[['Date', 'Open', 'High', 'Low', 'Close']].values\n"
      ],
      "metadata": {
        "id": "ZnxIX1LO2OBe"
      },
      "execution_count": 22,
      "outputs": []
    },
    {
      "cell_type": "code",
      "source": [
        "fig, ax = plt.subplots()\n",
        "candlestick_ohlc(ax, ohlc, width=0.6, colorup='g', colordown='r')\n",
        "ax.set_xlabel('Date')\n",
        "ax.set_ylabel('Price')\n",
        "ax.set_title('Candlestick Chart of Stock Prices')\n",
        "ax.xaxis.set_major_formatter(mdates.DateFormatter('%Y-%m-%d'))\n",
        "plt.xticks(rotation=45)\n",
        "plt.show()\n"
      ],
      "metadata": {
        "colab": {
          "base_uri": "https://localhost:8080/",
          "height": 524
        },
        "id": "1pQT2XZM2RCM",
        "outputId": "b4daacdb-d967-408e-e500-cfb25ec0bff0"
      },
      "execution_count": 25,
      "outputs": [
        {
          "output_type": "display_data",
          "data": {
            "text/plain": [
              "<Figure size 640x480 with 1 Axes>"
            ],
            "image/png": "[encoded data removed]"
          },
          "metadata": {}
        }
      ]
    }
  ]
}